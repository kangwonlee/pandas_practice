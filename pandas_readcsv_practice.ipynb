{
  "nbformat": 4,
  "nbformat_minor": 0,
  "metadata": {
    "colab": {
      "private_outputs": true,
      "provenance": [],
      "mount_file_id": "https://github.com/kangwonlee/read_abaqus/blob/main/read_abaqus.ipynb",
      "authorship_tag": "ABX9TyPpyPoZPH4+X39zoG/pwggU",
      "include_colab_link": true
    },
    "kernelspec": {
      "name": "python3",
      "display_name": "Python 3"
    },
    "language_info": {
      "name": "python"
    }
  },
  "cells": [
    {
      "cell_type": "markdown",
      "metadata": {
        "id": "view-in-github",
        "colab_type": "text"
      },
      "source": [
        "<a href=\"https://colab.research.google.com/github/kangwonlee/pandas_practice/blob/main/pandas_readcsv_practice.ipynb\" target=\"_parent\"><img src=\"https://colab.research.google.com/assets/colab-badge.svg\" alt=\"Open In Colab\"/></a>"
      ]
    },
    {
      "cell_type": "markdown",
      "source": [
        "# Pandas 연습"
      ],
      "metadata": {
        "id": "DvjAEWEMdGOV"
      }
    },
    {
      "cell_type": "markdown",
      "source": [
        "* Google Drive 에 `pandas_practice` 라는 이름의 폴더를 만듦\n",
        "* `.csv` 파일을 해당 폴더에 보관\n",
        "* 왼쪽 파일 아이콘에서 \"드라이브 마운트\" 하여 Google Colab 에서 Google Drive 를 읽을 수 있도록 설정"
      ],
      "metadata": {
        "id": "s3V35IT0KFgC"
      }
    },
    {
      "cell_type": "markdown",
      "source": [
        "## Locating the data file 자료 파일 위치 찾기"
      ],
      "metadata": {
        "id": "nP2lnSClb1pv"
      }
    },
    {
      "cell_type": "code",
      "execution_count": null,
      "metadata": {
        "id": "i0m0YqLAFfdQ"
      },
      "outputs": [],
      "source": [
        "import os"
      ]
    },
    {
      "cell_type": "markdown",
      "source": [
        "`pandas_practice/` 폴더를 읽을 수 있는지 확인"
      ],
      "metadata": {
        "id": "06y45O9C0he0"
      }
    },
    {
      "cell_type": "code",
      "source": [
        "path = os.path.join(\"drive\", \"MyDrive\", \"pandas_practice\")\n",
        "path"
      ],
      "metadata": {
        "id": "ViLU3IHFFs9M"
      },
      "execution_count": null,
      "outputs": []
    },
    {
      "cell_type": "code",
      "source": [
        "assert os.path.exists(path), \"Please mount the drive\""
      ],
      "metadata": {
        "id": "TuITmk_RF1Kx"
      },
      "execution_count": null,
      "outputs": []
    },
    {
      "cell_type": "markdown",
      "source": [
        "위 셀에서 오류가 발생하지 않으면 Google drive 가 mount 된 것임"
      ],
      "metadata": {
        "id": "lhaOuLsW1UCL"
      }
    },
    {
      "cell_type": "markdown",
      "source": [
        "`pandas_practice/` 폴더 아래 `.csv` 파일이 있는지 확인"
      ],
      "metadata": {
        "id": "_zQd1c250owz"
      }
    },
    {
      "cell_type": "code",
      "source": [
        "csv_fullpath = os.path.join(path, \"unknown3.csv\")\n",
        "assert os.path.exists(csv_fullpath), \"Please check the filename\""
      ],
      "metadata": {
        "id": "jcsEdahpF-Gx"
      },
      "execution_count": null,
      "outputs": []
    },
    {
      "cell_type": "markdown",
      "source": [
        "위 셀에서 오류가 발생하지 않으면 `.csv` 파일을 찾을 수 있었다는 의미"
      ],
      "metadata": {
        "id": "rk6mLXVY1sCa"
      }
    },
    {
      "cell_type": "markdown",
      "source": [
        "## 파일 읽어보기"
      ],
      "metadata": {
        "id": "DHvcXj7Nb-2b"
      }
    },
    {
      "cell_type": "markdown",
      "source": [
        "`.csv` 파일의 내용을 `pandas.DataFrame` 으로 읽어들임"
      ],
      "metadata": {
        "id": "V6d7JPS60xUz"
      }
    },
    {
      "cell_type": "code",
      "source": [
        "import pandas as pd\n",
        "\n",
        "df = pd.read_csv(csv_fullpath)"
      ],
      "metadata": {
        "id": "JXpJ0ia4GLAh"
      },
      "execution_count": null,
      "outputs": []
    },
    {
      "cell_type": "markdown",
      "source": [
        "첫 10 줄 내용"
      ],
      "metadata": {
        "id": "xE1jw8EO2C5L"
      }
    },
    {
      "cell_type": "code",
      "source": [
        "df.head()"
      ],
      "metadata": {
        "id": "42qefJ1eGQ_5"
      },
      "execution_count": null,
      "outputs": []
    },
    {
      "cell_type": "code",
      "source": [
        "df.plot.scatter(df.columns[1], df.columns[2])"
      ],
      "metadata": {
        "id": "HSBLvT4BGSoh"
      },
      "execution_count": null,
      "outputs": []
    },
    {
      "cell_type": "code",
      "source": [],
      "metadata": {
        "id": "WMACb9byofmY"
      },
      "execution_count": null,
      "outputs": []
    }
  ]
}